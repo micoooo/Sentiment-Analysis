{
 "metadata": {
  "language_info": {
   "codemirror_mode": {
    "name": "ipython",
    "version": 3
   },
   "file_extension": ".py",
   "mimetype": "text/x-python",
   "name": "python",
   "nbconvert_exporter": "python",
   "pygments_lexer": "ipython3",
   "version": "3.8.5-final"
  },
  "orig_nbformat": 2,
  "kernelspec": {
   "name": "python_defaultSpec_1599703366200",
   "display_name": "Python 3.8.5 64-bit ('venv': venv)"
  }
 },
 "nbformat": 4,
 "nbformat_minor": 2,
 "cells": [
  {
   "cell_type": "markdown",
   "metadata": {},
   "source": [
    "### Vader package"
   ]
  },
  {
   "cell_type": "code",
   "execution_count": 1,
   "metadata": {},
   "outputs": [],
   "source": [
    "import re\n",
    "\n",
    "import pandas as pd\n",
    "import nltk"
   ]
  },
  {
   "cell_type": "code",
   "execution_count": 2,
   "metadata": {},
   "outputs": [],
   "source": [
    "# read in comments\n",
    "comments = pd.read_csv('./data/raw/Comments.csv')"
   ]
  },
  {
   "cell_type": "code",
   "execution_count": 3,
   "metadata": {
    "tags": []
   },
   "outputs": [
    {
     "output_type": "stream",
     "name": "stderr",
     "text": "[nltk_data] Downloading package vader_lexicon to\n[nltk_data]     /Users/michaelchung/nltk_data...\n[nltk_data]   Package vader_lexicon is already up-to-date!\n"
    },
    {
     "output_type": "execute_result",
     "data": {
      "text/plain": "True"
     },
     "metadata": {},
     "execution_count": 3
    }
   ],
   "source": [
    "nltk.download('vader_lexicon')"
   ]
  },
  {
   "cell_type": "code",
   "execution_count": 4,
   "metadata": {},
   "outputs": [],
   "source": [
    "from nltk.sentiment.vader import SentimentIntensityAnalyzer, VaderConstants\n",
    "\n",
    "sid = SentimentIntensityAnalyzer()"
   ]
  },
  {
   "cell_type": "code",
   "execution_count": 5,
   "metadata": {},
   "outputs": [
    {
     "output_type": "execute_result",
     "data": {
      "text/plain": "(70142, 4)"
     },
     "metadata": {},
     "execution_count": 5
    }
   ],
   "source": [
    "df = comments[comments.Key<101]\n",
    "df.shape"
   ]
  },
  {
   "cell_type": "code",
   "execution_count": 6,
   "metadata": {},
   "outputs": [],
   "source": [
    "df.Reply = df.Reply.apply(lambda x: re.sub(r'\\(?http\\S+', '', x))\n",
    "df.Reply = df.Reply.apply(lambda x: ' '.join(nltk.word_tokenize(x)))\n"
   ]
  },
  {
   "cell_type": "code",
   "execution_count": 7,
   "metadata": {},
   "outputs": [],
   "source": [
    "df[['neg','neu','pos','compound']] = df.Reply.apply(lambda x: pd.Series(sid.polarity_scores(x)))\n"
   ]
  },
  {
   "cell_type": "code",
   "execution_count": 8,
   "metadata": {},
   "outputs": [
    {
     "output_type": "execute_result",
     "data": {
      "text/plain": "                                               Reply  Upvote  \\\n0                All we need now is humanless bodies     964   \n1  For a moment I read careless driver . Would ha...    3982   \n2  Elon 's Twitter feed has been hilarious over t...    1765   \n\n                  Time  Key    neg    neu    pos  compound  \n0  2018-01-30 11:19:01    1  0.000  1.000  0.000    0.0000  \n1  2018-01-30 10:35:31    1  0.195  0.547  0.258    0.2023  \n2  2018-01-30 11:21:32    1  0.083  0.833  0.083    0.0000  ",
      "text/html": "<div>\n<style scoped>\n    .dataframe tbody tr th:only-of-type {\n        vertical-align: middle;\n    }\n\n    .dataframe tbody tr th {\n        vertical-align: top;\n    }\n\n    .dataframe thead th {\n        text-align: right;\n    }\n</style>\n<table border=\"1\" class=\"dataframe\">\n  <thead>\n    <tr style=\"text-align: right;\">\n      <th></th>\n      <th>Reply</th>\n      <th>Upvote</th>\n      <th>Time</th>\n      <th>Key</th>\n      <th>neg</th>\n      <th>neu</th>\n      <th>pos</th>\n      <th>compound</th>\n    </tr>\n  </thead>\n  <tbody>\n    <tr>\n      <th>0</th>\n      <td>All we need now is humanless bodies</td>\n      <td>964</td>\n      <td>2018-01-30 11:19:01</td>\n      <td>1</td>\n      <td>0.000</td>\n      <td>1.000</td>\n      <td>0.000</td>\n      <td>0.0000</td>\n    </tr>\n    <tr>\n      <th>1</th>\n      <td>For a moment I read careless driver . Would ha...</td>\n      <td>3982</td>\n      <td>2018-01-30 10:35:31</td>\n      <td>1</td>\n      <td>0.195</td>\n      <td>0.547</td>\n      <td>0.258</td>\n      <td>0.2023</td>\n    </tr>\n    <tr>\n      <th>2</th>\n      <td>Elon 's Twitter feed has been hilarious over t...</td>\n      <td>1765</td>\n      <td>2018-01-30 11:21:32</td>\n      <td>1</td>\n      <td>0.083</td>\n      <td>0.833</td>\n      <td>0.083</td>\n      <td>0.0000</td>\n    </tr>\n  </tbody>\n</table>\n</div>"
     },
     "metadata": {},
     "execution_count": 8
    }
   ],
   "source": [
    "df.head(3)"
   ]
  },
  {
   "cell_type": "markdown",
   "metadata": {},
   "source": [
    "### Textblob package"
   ]
  },
  {
   "cell_type": "code",
   "execution_count": 9,
   "metadata": {},
   "outputs": [],
   "source": [
    "from textblob.sentiments import NaiveBayesAnalyzer, PatternAnalyzer\n",
    "from textblob import Blobber\n",
    "tba = Blobber(analyzer=NaiveBayesAnalyzer())"
   ]
  },
  {
   "cell_type": "code",
   "execution_count": 10,
   "metadata": {},
   "outputs": [],
   "source": [
    "df = comments[comments.Key<101]\n"
   ]
  },
  {
   "cell_type": "code",
   "execution_count": 11,
   "metadata": {},
   "outputs": [],
   "source": [
    "df.Reply = df.Reply.apply(lambda x: re.sub(r'\\(?http\\S+', '', x))\n",
    "df.Reply = df.Reply.apply(lambda x: ' '.join(nltk.word_tokenize(x)))\n"
   ]
  },
  {
   "cell_type": "code",
   "execution_count": 12,
   "metadata": {},
   "outputs": [],
   "source": [
    "df[['Classification','positive','negative']] = df.Reply.apply(lambda x: pd.Series({'Classification':tba(x).sentiment[0],\n",
    "                                                                        'positive':tba(x).sentiment[1],\n",
    "                                                                        'negative':tba(x).sentiment[2]}))\n"
   ]
  },
  {
   "cell_type": "code",
   "execution_count": 13,
   "metadata": {},
   "outputs": [
    {
     "output_type": "execute_result",
     "data": {
      "text/plain": "                                               Reply  Upvote  \\\n0                All we need now is humanless bodies     964   \n1  For a moment I read careless driver . Would ha...    3982   \n2  Elon 's Twitter feed has been hilarious over t...    1765   \n\n                  Time  Key Classification  positive  negative  \n0  2018-01-30 11:19:01    1            pos  0.514741  0.485259  \n1  2018-01-30 10:35:31    1            pos  0.521948  0.478052  \n2  2018-01-30 11:21:32    1            pos  0.738500  0.261500  ",
      "text/html": "<div>\n<style scoped>\n    .dataframe tbody tr th:only-of-type {\n        vertical-align: middle;\n    }\n\n    .dataframe tbody tr th {\n        vertical-align: top;\n    }\n\n    .dataframe thead th {\n        text-align: right;\n    }\n</style>\n<table border=\"1\" class=\"dataframe\">\n  <thead>\n    <tr style=\"text-align: right;\">\n      <th></th>\n      <th>Reply</th>\n      <th>Upvote</th>\n      <th>Time</th>\n      <th>Key</th>\n      <th>Classification</th>\n      <th>positive</th>\n      <th>negative</th>\n    </tr>\n  </thead>\n  <tbody>\n    <tr>\n      <th>0</th>\n      <td>All we need now is humanless bodies</td>\n      <td>964</td>\n      <td>2018-01-30 11:19:01</td>\n      <td>1</td>\n      <td>pos</td>\n      <td>0.514741</td>\n      <td>0.485259</td>\n    </tr>\n    <tr>\n      <th>1</th>\n      <td>For a moment I read careless driver . Would ha...</td>\n      <td>3982</td>\n      <td>2018-01-30 10:35:31</td>\n      <td>1</td>\n      <td>pos</td>\n      <td>0.521948</td>\n      <td>0.478052</td>\n    </tr>\n    <tr>\n      <th>2</th>\n      <td>Elon 's Twitter feed has been hilarious over t...</td>\n      <td>1765</td>\n      <td>2018-01-30 11:21:32</td>\n      <td>1</td>\n      <td>pos</td>\n      <td>0.738500</td>\n      <td>0.261500</td>\n    </tr>\n  </tbody>\n</table>\n</div>"
     },
     "metadata": {},
     "execution_count": 13
    }
   ],
   "source": [
    "df.head(3)"
   ]
  },
  {
   "cell_type": "code",
   "execution_count": 14,
   "metadata": {},
   "outputs": [],
   "source": [
    "comments.dropna(subset=['Reply'], inplace=True)"
   ]
  },
  {
   "cell_type": "code",
   "execution_count": 15,
   "metadata": {},
   "outputs": [],
   "source": [
    "# remove punctuation\n",
    "comments.Reply = comments.Reply.apply(lambda x: re.sub(r'[^\\w\\s]', '', x) )"
   ]
  },
  {
   "cell_type": "code",
   "execution_count": 16,
   "metadata": {
    "tags": []
   },
   "outputs": [
    {
     "output_type": "stream",
     "name": "stderr",
     "text": "[nltk_data] Downloading package stopwords to\n[nltk_data]     /Users/michaelchung/nltk_data...\n[nltk_data]   Package stopwords is already up-to-date!\n"
    },
    {
     "output_type": "execute_result",
     "data": {
      "text/plain": "True"
     },
     "metadata": {},
     "execution_count": 16
    }
   ],
   "source": [
    "nltk.download('stopwords')"
   ]
  },
  {
   "cell_type": "code",
   "execution_count": 17,
   "metadata": {},
   "outputs": [],
   "source": [
    "# remove stopwords\n",
    "from nltk.corpus import stopwords\n",
    "stopwords = stopwords.words('english')\n",
    "comments.Reply = comments.Reply.apply(lambda x: ' '.join([word for word in nltk.word_tokenize(x) if word.lower() not in stopwords]))"
   ]
  },
  {
   "cell_type": "code",
   "execution_count": 18,
   "metadata": {},
   "outputs": [],
   "source": [
    "# remove links\n",
    "comments.Reply = comments.Reply.apply(lambda x: re.sub(r'\\(?http\\S+', '', x))"
   ]
  },
  {
   "cell_type": "code",
   "execution_count": 19,
   "metadata": {},
   "outputs": [],
   "source": [
    "# stemming and lemmatization\n",
    "from nltk.stem import PorterStemmer\n",
    "porter_stemmer = PorterStemmer()"
   ]
  },
  {
   "cell_type": "code",
   "execution_count": 20,
   "metadata": {},
   "outputs": [
    {
     "output_type": "execute_result",
     "data": {
      "text/plain": "['women', 'run', 'run', 'run', 'ran']"
     },
     "metadata": {},
     "execution_count": 20
    }
   ],
   "source": [
    "text = nltk.word_tokenize('women run running runs ran')\n",
    "stemmed = [porter_stemmer.stem(word) for word in text]\n",
    "stemmed"
   ]
  },
  {
   "cell_type": "markdown",
   "metadata": {},
   "source": [
    "### Training own classifier"
   ]
  },
  {
   "cell_type": "code",
   "execution_count": 21,
   "metadata": {},
   "outputs": [],
   "source": [
    "data = pd.read_csv('./sentiment-analysis-msa-phase-2/train.csv')"
   ]
  },
  {
   "cell_type": "code",
   "execution_count": 22,
   "metadata": {},
   "outputs": [
    {
     "output_type": "execute_result",
     "data": {
      "text/plain": "       textID                                  text sentiment\n0  cb774db0d1   I`d have responded, if I were going   neutral",
      "text/html": "<div>\n<style scoped>\n    .dataframe tbody tr th:only-of-type {\n        vertical-align: middle;\n    }\n\n    .dataframe tbody tr th {\n        vertical-align: top;\n    }\n\n    .dataframe thead th {\n        text-align: right;\n    }\n</style>\n<table border=\"1\" class=\"dataframe\">\n  <thead>\n    <tr style=\"text-align: right;\">\n      <th></th>\n      <th>textID</th>\n      <th>text</th>\n      <th>sentiment</th>\n    </tr>\n  </thead>\n  <tbody>\n    <tr>\n      <th>0</th>\n      <td>cb774db0d1</td>\n      <td>I`d have responded, if I were going</td>\n      <td>neutral</td>\n    </tr>\n  </tbody>\n</table>\n</div>"
     },
     "metadata": {},
     "execution_count": 22
    }
   ],
   "source": [
    "data.head(1)"
   ]
  },
  {
   "cell_type": "code",
   "execution_count": 23,
   "metadata": {},
   "outputs": [],
   "source": [
    "data.dropna(subset=['text'], inplace=True)\n"
   ]
  },
  {
   "cell_type": "code",
   "execution_count": 24,
   "metadata": {},
   "outputs": [],
   "source": [
    "# remove punctuation\n",
    "data.text = data.text.apply(lambda x: re.sub(r'[^\\w\\s]', '', x) )"
   ]
  },
  {
   "cell_type": "code",
   "execution_count": 25,
   "metadata": {},
   "outputs": [],
   "source": [
    "# Remove stopwords\n",
    "from nltk.corpus import stopwords\n",
    "stopwords = stopwords.words('english')\n",
    "data.text = data.text.apply(lambda x: ' '.join([word for word in nltk.word_tokenize(x) if word.lower() not in stopwords]))"
   ]
  },
  {
   "cell_type": "code",
   "execution_count": 26,
   "metadata": {},
   "outputs": [],
   "source": [
    "# remove links\n",
    "data.text = data.text.apply(lambda x: re.sub(r'\\(?http\\S+', '', x))\n"
   ]
  },
  {
   "cell_type": "code",
   "execution_count": 27,
   "metadata": {},
   "outputs": [],
   "source": [
    "# Stemming and Lemmatization\n",
    "from nltk.stem import PorterStemmer\n",
    "porter_stemmer = PorterStemmer()\n",
    "\n",
    "lemmatizer = nltk.WordNetLemmatizer()\n"
   ]
  },
  {
   "cell_type": "code",
   "execution_count": 28,
   "metadata": {
    "tags": []
   },
   "outputs": [
    {
     "output_type": "stream",
     "name": "stderr",
     "text": "[nltk_data] Downloading package wordnet to\n[nltk_data]     /Users/michaelchung/nltk_data...\n[nltk_data]   Package wordnet is already up-to-date!\n"
    },
    {
     "output_type": "execute_result",
     "data": {
      "text/plain": "True"
     },
     "metadata": {},
     "execution_count": 28
    }
   ],
   "source": [
    "nltk.download('wordnet')"
   ]
  },
  {
   "cell_type": "code",
   "execution_count": 29,
   "metadata": {},
   "outputs": [],
   "source": [
    "data.text = data.text.apply(lambda x: ' '.join([lemmatizer.lemmatize(word) for word in nltk.word_tokenize(x)]))"
   ]
  },
  {
   "cell_type": "markdown",
   "metadata": {},
   "source": [
    "**Training naive bayes sentiment classifier**"
   ]
  },
  {
   "cell_type": "code",
   "execution_count": 30,
   "metadata": {},
   "outputs": [],
   "source": [
    "from sklearn.model_selection import train_test_split\n",
    "from sklearn.feature_extraction.text import CountVectorizer, TfidfVectorizer\n",
    "from sklearn.naive_bayes import MultinomialNB, GaussianNB\n",
    "from sklearn import metrics"
   ]
  },
  {
   "cell_type": "code",
   "execution_count": 31,
   "metadata": {},
   "outputs": [],
   "source": [
    "vectorizer = CountVectorizer()"
   ]
  },
  {
   "cell_type": "code",
   "execution_count": 32,
   "metadata": {},
   "outputs": [],
   "source": [
    "data.dropna(subset=['text'], inplace=True)\n",
    "X_train = vectorizer.fit_transform(data.text)"
   ]
  },
  {
   "cell_type": "code",
   "execution_count": 33,
   "metadata": {},
   "outputs": [
    {
     "output_type": "execute_result",
     "data": {
      "text/plain": "MultinomialNB()"
     },
     "metadata": {},
     "execution_count": 33
    }
   ],
   "source": [
    "# instantiate multinomial naive bayes model\n",
    "nb = MultinomialNB()\n",
    "\n",
    "nb.fit(X_train, data.sentiment)"
   ]
  },
  {
   "cell_type": "markdown",
   "metadata": {},
   "source": [
    "**Transform test data**"
   ]
  },
  {
   "cell_type": "code",
   "execution_count": 34,
   "metadata": {},
   "outputs": [],
   "source": [
    "test = pd.read_csv('./sentiment-analysis-msa-phase-2/test.csv')"
   ]
  },
  {
   "cell_type": "code",
   "execution_count": 35,
   "metadata": {},
   "outputs": [],
   "source": [
    "# drop NA text rows\n",
    "test.dropna(subset=['text'], inplace=True)"
   ]
  },
  {
   "cell_type": "code",
   "execution_count": 36,
   "metadata": {},
   "outputs": [],
   "source": [
    "# remove punctuation\n",
    "test.text = test.text.apply(lambda x: re.sub(r'[^\\w\\s]', '', x) )"
   ]
  },
  {
   "cell_type": "code",
   "execution_count": 37,
   "metadata": {},
   "outputs": [],
   "source": [
    "# remove stopwords\n",
    "test.text = test.text.apply(lambda x: ' '.join([word for word in nltk.word_tokenize(x) if word.lower() not in stopwords]))\n"
   ]
  },
  {
   "cell_type": "code",
   "execution_count": 38,
   "metadata": {},
   "outputs": [],
   "source": [
    "# remove links\n",
    "test.text = test.text.apply(lambda x: re.sub(r'\\(?http\\S+', '', x))\n"
   ]
  },
  {
   "cell_type": "code",
   "execution_count": 39,
   "metadata": {},
   "outputs": [],
   "source": [
    "# lemmatization\n",
    "test.text = test.text.apply(lambda x: ' '.join([lemmatizer.lemmatize(word) for word in nltk.word_tokenize(x)]))"
   ]
  },
  {
   "cell_type": "code",
   "execution_count": 40,
   "metadata": {},
   "outputs": [],
   "source": [
    "test.dropna(subset=['text'], inplace=True)\n",
    "X_test = vectorizer.transform(test.text)"
   ]
  },
  {
   "cell_type": "code",
   "execution_count": 41,
   "metadata": {},
   "outputs": [
    {
     "output_type": "execute_result",
     "data": {
      "text/plain": "(3534, 26934)"
     },
     "metadata": {},
     "execution_count": 41
    }
   ],
   "source": [
    "X_test.shape"
   ]
  },
  {
   "cell_type": "code",
   "execution_count": 42,
   "metadata": {},
   "outputs": [],
   "source": [
    "pred_y = nb.predict(X_test)"
   ]
  },
  {
   "cell_type": "code",
   "execution_count": 43,
   "metadata": {},
   "outputs": [
    {
     "output_type": "execute_result",
     "data": {
      "text/plain": "(3534,)"
     },
     "metadata": {},
     "execution_count": 43
    }
   ],
   "source": [
    "pred_y.shape"
   ]
  },
  {
   "cell_type": "code",
   "execution_count": 44,
   "metadata": {},
   "outputs": [
    {
     "output_type": "execute_result",
     "data": {
      "text/plain": "             0\n0     positive\n1     positive\n2     negative\n3     positive\n4      neutral\n...        ...\n3529  negative\n3530   neutral\n3531  negative\n3532  positive\n3533   neutral\n\n[3534 rows x 1 columns]",
      "text/html": "<div>\n<style scoped>\n    .dataframe tbody tr th:only-of-type {\n        vertical-align: middle;\n    }\n\n    .dataframe tbody tr th {\n        vertical-align: top;\n    }\n\n    .dataframe thead th {\n        text-align: right;\n    }\n</style>\n<table border=\"1\" class=\"dataframe\">\n  <thead>\n    <tr style=\"text-align: right;\">\n      <th></th>\n      <th>0</th>\n    </tr>\n  </thead>\n  <tbody>\n    <tr>\n      <th>0</th>\n      <td>positive</td>\n    </tr>\n    <tr>\n      <th>1</th>\n      <td>positive</td>\n    </tr>\n    <tr>\n      <th>2</th>\n      <td>negative</td>\n    </tr>\n    <tr>\n      <th>3</th>\n      <td>positive</td>\n    </tr>\n    <tr>\n      <th>4</th>\n      <td>neutral</td>\n    </tr>\n    <tr>\n      <th>...</th>\n      <td>...</td>\n    </tr>\n    <tr>\n      <th>3529</th>\n      <td>negative</td>\n    </tr>\n    <tr>\n      <th>3530</th>\n      <td>neutral</td>\n    </tr>\n    <tr>\n      <th>3531</th>\n      <td>negative</td>\n    </tr>\n    <tr>\n      <th>3532</th>\n      <td>positive</td>\n    </tr>\n    <tr>\n      <th>3533</th>\n      <td>neutral</td>\n    </tr>\n  </tbody>\n</table>\n<p>3534 rows × 1 columns</p>\n</div>"
     },
     "metadata": {},
     "execution_count": 44
    }
   ],
   "source": [
    "pred_df = pd.DataFrame(data=pred_y.flatten())\n",
    "pred_df"
   ]
  },
  {
   "cell_type": "code",
   "execution_count": 45,
   "metadata": {},
   "outputs": [
    {
     "output_type": "execute_result",
     "data": {
      "text/plain": "          textID sentiment\n0     f87dea47db  positive\n1     96d74cb729  positive\n2     eee518ae67  negative\n3     01082688c6  positive\n4     33987a8ee5   neutral\n...          ...       ...\n3529  e5f0e6ef4b  negative\n3530  416863ce47   neutral\n3531  6332da480c  negative\n3532  df1baec676  positive\n3533  469e15c5a8   neutral\n\n[3534 rows x 2 columns]",
      "text/html": "<div>\n<style scoped>\n    .dataframe tbody tr th:only-of-type {\n        vertical-align: middle;\n    }\n\n    .dataframe tbody tr th {\n        vertical-align: top;\n    }\n\n    .dataframe thead th {\n        text-align: right;\n    }\n</style>\n<table border=\"1\" class=\"dataframe\">\n  <thead>\n    <tr style=\"text-align: right;\">\n      <th></th>\n      <th>textID</th>\n      <th>sentiment</th>\n    </tr>\n  </thead>\n  <tbody>\n    <tr>\n      <th>0</th>\n      <td>f87dea47db</td>\n      <td>positive</td>\n    </tr>\n    <tr>\n      <th>1</th>\n      <td>96d74cb729</td>\n      <td>positive</td>\n    </tr>\n    <tr>\n      <th>2</th>\n      <td>eee518ae67</td>\n      <td>negative</td>\n    </tr>\n    <tr>\n      <th>3</th>\n      <td>01082688c6</td>\n      <td>positive</td>\n    </tr>\n    <tr>\n      <th>4</th>\n      <td>33987a8ee5</td>\n      <td>neutral</td>\n    </tr>\n    <tr>\n      <th>...</th>\n      <td>...</td>\n      <td>...</td>\n    </tr>\n    <tr>\n      <th>3529</th>\n      <td>e5f0e6ef4b</td>\n      <td>negative</td>\n    </tr>\n    <tr>\n      <th>3530</th>\n      <td>416863ce47</td>\n      <td>neutral</td>\n    </tr>\n    <tr>\n      <th>3531</th>\n      <td>6332da480c</td>\n      <td>negative</td>\n    </tr>\n    <tr>\n      <th>3532</th>\n      <td>df1baec676</td>\n      <td>positive</td>\n    </tr>\n    <tr>\n      <th>3533</th>\n      <td>469e15c5a8</td>\n      <td>neutral</td>\n    </tr>\n  </tbody>\n</table>\n<p>3534 rows × 2 columns</p>\n</div>"
     },
     "metadata": {},
     "execution_count": 45
    }
   ],
   "source": [
    "preds = pd.concat([test['textID'], pred_df[0]],axis=1,keys=['textID','sentiment'])\n",
    "preds"
   ]
  },
  {
   "cell_type": "code",
   "execution_count": 46,
   "metadata": {},
   "outputs": [],
   "source": [
    "preds.to_csv('./data/raw/predictions.csv', index=False)"
   ]
  }
 ]
}