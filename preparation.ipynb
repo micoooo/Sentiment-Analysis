{
 "metadata": {
  "language_info": {
   "codemirror_mode": {
    "name": "ipython",
    "version": 3
   },
   "file_extension": ".py",
   "mimetype": "text/x-python",
   "name": "python",
   "nbconvert_exporter": "python",
   "pygments_lexer": "ipython3",
   "version": "3.7.4-final"
  },
  "orig_nbformat": 2,
  "kernelspec": {
   "name": "python37432bitvenvvenvfdc883e1516a4bf5ac11a5a12db37afe",
   "display_name": "Python 3.7.4 32-bit ('venv': venv)"
  }
 },
 "nbformat": 4,
 "nbformat_minor": 2,
 "cells": [
  {
   "cell_type": "code",
   "execution_count": 45,
   "metadata": {},
   "outputs": [],
   "source": [
    "import datetime\n",
    "import praw\n",
    "import pandas as pd\n",
    "\n",
    "from keys import client_id, secret\n",
    "\n",
    "from tqdm.auto import tqdm"
   ]
  },
  {
   "cell_type": "markdown",
   "metadata": {},
   "source": [
    "### Collecting posts"
   ]
  },
  {
   "cell_type": "code",
   "execution_count": 46,
   "metadata": {},
   "outputs": [],
   "source": [
    "reddit = praw.Reddit(client_id=client_id, client_secret=secret, user_agent='postscrape by /u/kejimuna')"
   ]
  },
  {
   "cell_type": "code",
   "execution_count": 51,
   "metadata": {},
   "outputs": [],
   "source": [
    "nintendo = reddit.subreddit('nintendoswitch')\n",
    "\n",
    "posts = []\n",
    "for index, post in enumerate(nintendo.top(limit=40)):\n",
    "    posts.append([post.title, \"https://reddit.com\" + post.permalink, post.selftext, post.score, post.created_utc, index, post.num_comments])\n",
    "\n",
    "# dataframe for posts\n",
    "posts = pd.DataFrame(posts, columns=['Title', 'URL', 'Body', 'Upvotes', 'Time', 'Key', 'TotalComments'])\n",
    "\n",
    "# changing from utc time to standard timestamp\n",
    "posts.Time = posts.Time.apply(lambda x: pd.to_datetime(datetime.datetime.fromtimestamp(x)))\n"
   ]
  },
  {
   "cell_type": "code",
   "execution_count": 52,
   "metadata": {},
   "outputs": [
    {
     "output_type": "execute_result",
     "data": {
      "text/plain": "102812"
     },
     "metadata": {},
     "execution_count": 52
    }
   ],
   "source": [
    "sum(posts.TotalComments)"
   ]
  },
  {
   "cell_type": "code",
   "execution_count": 53,
   "metadata": {},
   "outputs": [
    {
     "output_type": "execute_result",
     "data": {
      "text/plain": "                                               Title  \\\n0  My kid was so adamant I put in the lunchables ...   \n1  Nintendo delayed Animal Crossing because it di...   \n2  Join the Battle for Net Neutrality! Net neutra...   \n3           NES Switch dock (build pics in comments)   \n4  Nintendo is really missing a huge opportunity ...   \n\n                                                 URL  \\\n0  https://reddit.com/r/NintendoSwitch/comments/d...   \n1  https://reddit.com/r/NintendoSwitch/comments/b...   \n2  https://reddit.com/r/NintendoSwitch/comments/7...   \n3  https://reddit.com/r/NintendoSwitch/comments/g...   \n4  https://reddit.com/r/NintendoSwitch/comments/i...   \n\n                                                Body  Upvotes  \\\n0                                                       99966   \n1                                                       76590   \n2                                                       69715   \n3                                                       62776   \n4  GameCube was the second lowest selling console...    61594   \n\n                 Time  Key  TotalComments  \n0 2019-10-18 05:08:57    0           2313  \n1 2019-06-13 01:31:03    1           2353  \n2 2017-11-21 19:21:08    2           1247  \n3 2020-05-26 06:21:24    3            988  \n4 2020-08-03 00:16:38    4           4896  ",
      "text/html": "<div>\n<style scoped>\n    .dataframe tbody tr th:only-of-type {\n        vertical-align: middle;\n    }\n\n    .dataframe tbody tr th {\n        vertical-align: top;\n    }\n\n    .dataframe thead th {\n        text-align: right;\n    }\n</style>\n<table border=\"1\" class=\"dataframe\">\n  <thead>\n    <tr style=\"text-align: right;\">\n      <th></th>\n      <th>Title</th>\n      <th>URL</th>\n      <th>Body</th>\n      <th>Upvotes</th>\n      <th>Time</th>\n      <th>Key</th>\n      <th>TotalComments</th>\n    </tr>\n  </thead>\n  <tbody>\n    <tr>\n      <th>0</th>\n      <td>My kid was so adamant I put in the lunchables ...</td>\n      <td>https://reddit.com/r/NintendoSwitch/comments/d...</td>\n      <td></td>\n      <td>99966</td>\n      <td>2019-10-18 05:08:57</td>\n      <td>0</td>\n      <td>2313</td>\n    </tr>\n    <tr>\n      <th>1</th>\n      <td>Nintendo delayed Animal Crossing because it di...</td>\n      <td>https://reddit.com/r/NintendoSwitch/comments/b...</td>\n      <td></td>\n      <td>76590</td>\n      <td>2019-06-13 01:31:03</td>\n      <td>1</td>\n      <td>2353</td>\n    </tr>\n    <tr>\n      <th>2</th>\n      <td>Join the Battle for Net Neutrality! Net neutra...</td>\n      <td>https://reddit.com/r/NintendoSwitch/comments/7...</td>\n      <td></td>\n      <td>69715</td>\n      <td>2017-11-21 19:21:08</td>\n      <td>2</td>\n      <td>1247</td>\n    </tr>\n    <tr>\n      <th>3</th>\n      <td>NES Switch dock (build pics in comments)</td>\n      <td>https://reddit.com/r/NintendoSwitch/comments/g...</td>\n      <td></td>\n      <td>62776</td>\n      <td>2020-05-26 06:21:24</td>\n      <td>3</td>\n      <td>988</td>\n    </tr>\n    <tr>\n      <th>4</th>\n      <td>Nintendo is really missing a huge opportunity ...</td>\n      <td>https://reddit.com/r/NintendoSwitch/comments/i...</td>\n      <td>GameCube was the second lowest selling console...</td>\n      <td>61594</td>\n      <td>2020-08-03 00:16:38</td>\n      <td>4</td>\n      <td>4896</td>\n    </tr>\n  </tbody>\n</table>\n</div>"
     },
     "metadata": {},
     "execution_count": 53
    }
   ],
   "source": [
    "posts.head()"
   ]
  },
  {
   "cell_type": "code",
   "execution_count": 54,
   "metadata": {},
   "outputs": [
    {
     "output_type": "execute_result",
     "data": {
      "text/plain": "                                               Title  \\\n0  My kid was so adamant I put in the lunchables ...   \n1  Nintendo delayed Animal Crossing because it di...   \n3           NES Switch dock (build pics in comments)   \n4  Nintendo is really missing a huge opportunity ...   \n5  Super Smash Bros. Ultimate brings back every c...   \n\n                                                 URL  \\\n0  https://reddit.com/r/NintendoSwitch/comments/d...   \n1  https://reddit.com/r/NintendoSwitch/comments/b...   \n3  https://reddit.com/r/NintendoSwitch/comments/g...   \n4  https://reddit.com/r/NintendoSwitch/comments/i...   \n5  https://reddit.com/r/NintendoSwitch/comments/8...   \n\n                                                Body  Upvotes  \\\n0                                                       99966   \n1                                                       76590   \n3                                                       62776   \n4  GameCube was the second lowest selling console...    61594   \n5                                                       60855   \n\n                 Time  Key  TotalComments  \n0 2019-10-18 05:08:57    0           2313  \n1 2019-06-13 01:31:03    1           2353  \n3 2020-05-26 06:21:24    3            988  \n4 2020-08-03 00:16:38    4           4896  \n5 2018-06-13 04:23:27    5           4266  ",
      "text/html": "<div>\n<style scoped>\n    .dataframe tbody tr th:only-of-type {\n        vertical-align: middle;\n    }\n\n    .dataframe tbody tr th {\n        vertical-align: top;\n    }\n\n    .dataframe thead th {\n        text-align: right;\n    }\n</style>\n<table border=\"1\" class=\"dataframe\">\n  <thead>\n    <tr style=\"text-align: right;\">\n      <th></th>\n      <th>Title</th>\n      <th>URL</th>\n      <th>Body</th>\n      <th>Upvotes</th>\n      <th>Time</th>\n      <th>Key</th>\n      <th>TotalComments</th>\n    </tr>\n  </thead>\n  <tbody>\n    <tr>\n      <th>0</th>\n      <td>My kid was so adamant I put in the lunchables ...</td>\n      <td>https://reddit.com/r/NintendoSwitch/comments/d...</td>\n      <td></td>\n      <td>99966</td>\n      <td>2019-10-18 05:08:57</td>\n      <td>0</td>\n      <td>2313</td>\n    </tr>\n    <tr>\n      <th>1</th>\n      <td>Nintendo delayed Animal Crossing because it di...</td>\n      <td>https://reddit.com/r/NintendoSwitch/comments/b...</td>\n      <td></td>\n      <td>76590</td>\n      <td>2019-06-13 01:31:03</td>\n      <td>1</td>\n      <td>2353</td>\n    </tr>\n    <tr>\n      <th>3</th>\n      <td>NES Switch dock (build pics in comments)</td>\n      <td>https://reddit.com/r/NintendoSwitch/comments/g...</td>\n      <td></td>\n      <td>62776</td>\n      <td>2020-05-26 06:21:24</td>\n      <td>3</td>\n      <td>988</td>\n    </tr>\n    <tr>\n      <th>4</th>\n      <td>Nintendo is really missing a huge opportunity ...</td>\n      <td>https://reddit.com/r/NintendoSwitch/comments/i...</td>\n      <td>GameCube was the second lowest selling console...</td>\n      <td>61594</td>\n      <td>2020-08-03 00:16:38</td>\n      <td>4</td>\n      <td>4896</td>\n    </tr>\n    <tr>\n      <th>5</th>\n      <td>Super Smash Bros. Ultimate brings back every c...</td>\n      <td>https://reddit.com/r/NintendoSwitch/comments/8...</td>\n      <td></td>\n      <td>60855</td>\n      <td>2018-06-13 04:23:27</td>\n      <td>5</td>\n      <td>4266</td>\n    </tr>\n  </tbody>\n</table>\n</div>"
     },
     "metadata": {},
     "execution_count": 54
    }
   ],
   "source": [
    "posts = posts.drop(posts.index[2])\n",
    "posts.head()"
   ]
  },
  {
   "cell_type": "code",
   "execution_count": 55,
   "metadata": {},
   "outputs": [
    {
     "output_type": "execute_result",
     "data": {
      "text/plain": "(39, 7)"
     },
     "metadata": {},
     "execution_count": 55
    }
   ],
   "source": [
    "posts.shape"
   ]
  },
  {
   "cell_type": "markdown",
   "metadata": {},
   "source": [
    "**Collecting comments on each post**"
   ]
  },
  {
   "cell_type": "code",
   "execution_count": 56,
   "metadata": {},
   "outputs": [],
   "source": [
    "def collect_replies(key, url):\n",
    "    '''\n",
    "    Args:\n",
    "        key: the key of the post\n",
    "        url (str): the url of the post\n",
    "\n",
    "    Returns:\n",
    "        pd.dataframe: comments\n",
    "    '''\n",
    "\n",
    "    submission = reddit.submission(url=url)\n",
    "    submission.comments.replace_more(limit=None)\n",
    "    comment_queue = submission.comments[:]\n",
    "\n",
    "    table = {'Reply':[], 'Upvote':[], 'Time':[], 'Key':[]}\n",
    "\n",
    "    while comment_queue:\n",
    "        comment = comment_queue.pop(0)\n",
    "        table['Reply'].append(comment.body)\n",
    "        table['Time'].append(comment.created_utc)\n",
    "        table['Upvote'].append(comment.score)\n",
    "        table['Key'].append(key)\n",
    "        comment_queue.extend(comment.replies)\n",
    "\n",
    "    return pd.DataFrame.from_dict(table)"
   ]
  },
  {
   "cell_type": "code",
   "execution_count": 57,
   "metadata": {
    "tags": []
   },
   "outputs": [],
   "source": [
    "keys = posts.Key.tolist()\n",
    "urls = posts.URL.tolist()\n",
    "tuples = list(zip(keys, urls))\n",
    "\n",
    "comments = pd.concat([collect_replies(x[0], x[1]) for x in tuples])"
   ]
  },
  {
   "cell_type": "code",
   "execution_count": 67,
   "metadata": {},
   "outputs": [
    {
     "output_type": "error",
     "ename": "TypeError",
     "evalue": "an integer is required (got type Timestamp)",
     "traceback": [
      "\u001b[1;31m---------------------------------------------------------------------------\u001b[0m",
      "\u001b[1;31mTypeError\u001b[0m                                 Traceback (most recent call last)",
      "\u001b[1;32m<ipython-input-67-0f64aafe51f9>\u001b[0m in \u001b[0;36m<module>\u001b[1;34m\u001b[0m\n\u001b[1;32m----> 1\u001b[1;33m \u001b[0mcomments\u001b[0m\u001b[1;33m.\u001b[0m\u001b[0mTime\u001b[0m \u001b[1;33m=\u001b[0m \u001b[0mcomments\u001b[0m\u001b[1;33m.\u001b[0m\u001b[0mTime\u001b[0m\u001b[1;33m.\u001b[0m\u001b[0mapply\u001b[0m\u001b[1;33m(\u001b[0m\u001b[1;32mlambda\u001b[0m \u001b[0mx\u001b[0m\u001b[1;33m:\u001b[0m \u001b[0mpd\u001b[0m\u001b[1;33m.\u001b[0m\u001b[0mto_datetime\u001b[0m\u001b[1;33m(\u001b[0m\u001b[0mdatetime\u001b[0m\u001b[1;33m.\u001b[0m\u001b[0mdatetime\u001b[0m\u001b[1;33m.\u001b[0m\u001b[0mfromtimestamp\u001b[0m\u001b[1;33m(\u001b[0m\u001b[0mx\u001b[0m\u001b[1;33m)\u001b[0m\u001b[1;33m)\u001b[0m\u001b[1;33m)\u001b[0m\u001b[1;33m\u001b[0m\u001b[1;33m\u001b[0m\u001b[0m\n\u001b[0m",
      "\u001b[1;32md:\\Users\\Michael\\Desktop\\Sentiment-Analysis\\venv\\lib\\site-packages\\pandas\\core\\series.py\u001b[0m in \u001b[0;36mapply\u001b[1;34m(self, func, convert_dtype, args, **kwds)\u001b[0m\n\u001b[0;32m   4198\u001b[0m             \u001b[1;32melse\u001b[0m\u001b[1;33m:\u001b[0m\u001b[1;33m\u001b[0m\u001b[1;33m\u001b[0m\u001b[0m\n\u001b[0;32m   4199\u001b[0m                 \u001b[0mvalues\u001b[0m \u001b[1;33m=\u001b[0m \u001b[0mself\u001b[0m\u001b[1;33m.\u001b[0m\u001b[0mastype\u001b[0m\u001b[1;33m(\u001b[0m\u001b[0mobject\u001b[0m\u001b[1;33m)\u001b[0m\u001b[1;33m.\u001b[0m\u001b[0m_values\u001b[0m\u001b[1;33m\u001b[0m\u001b[1;33m\u001b[0m\u001b[0m\n\u001b[1;32m-> 4200\u001b[1;33m                 \u001b[0mmapped\u001b[0m \u001b[1;33m=\u001b[0m \u001b[0mlib\u001b[0m\u001b[1;33m.\u001b[0m\u001b[0mmap_infer\u001b[0m\u001b[1;33m(\u001b[0m\u001b[0mvalues\u001b[0m\u001b[1;33m,\u001b[0m \u001b[0mf\u001b[0m\u001b[1;33m,\u001b[0m \u001b[0mconvert\u001b[0m\u001b[1;33m=\u001b[0m\u001b[0mconvert_dtype\u001b[0m\u001b[1;33m)\u001b[0m\u001b[1;33m\u001b[0m\u001b[1;33m\u001b[0m\u001b[0m\n\u001b[0m\u001b[0;32m   4201\u001b[0m \u001b[1;33m\u001b[0m\u001b[0m\n\u001b[0;32m   4202\u001b[0m         \u001b[1;32mif\u001b[0m \u001b[0mlen\u001b[0m\u001b[1;33m(\u001b[0m\u001b[0mmapped\u001b[0m\u001b[1;33m)\u001b[0m \u001b[1;32mand\u001b[0m \u001b[0misinstance\u001b[0m\u001b[1;33m(\u001b[0m\u001b[0mmapped\u001b[0m\u001b[1;33m[\u001b[0m\u001b[1;36m0\u001b[0m\u001b[1;33m]\u001b[0m\u001b[1;33m,\u001b[0m \u001b[0mSeries\u001b[0m\u001b[1;33m)\u001b[0m\u001b[1;33m:\u001b[0m\u001b[1;33m\u001b[0m\u001b[1;33m\u001b[0m\u001b[0m\n",
      "\u001b[1;32mpandas\\_libs\\lib.pyx\u001b[0m in \u001b[0;36mpandas._libs.lib.map_infer\u001b[1;34m()\u001b[0m\n",
      "\u001b[1;32m<ipython-input-67-0f64aafe51f9>\u001b[0m in \u001b[0;36m<lambda>\u001b[1;34m(x)\u001b[0m\n\u001b[1;32m----> 1\u001b[1;33m \u001b[0mcomments\u001b[0m\u001b[1;33m.\u001b[0m\u001b[0mTime\u001b[0m \u001b[1;33m=\u001b[0m \u001b[0mcomments\u001b[0m\u001b[1;33m.\u001b[0m\u001b[0mTime\u001b[0m\u001b[1;33m.\u001b[0m\u001b[0mapply\u001b[0m\u001b[1;33m(\u001b[0m\u001b[1;32mlambda\u001b[0m \u001b[0mx\u001b[0m\u001b[1;33m:\u001b[0m \u001b[0mpd\u001b[0m\u001b[1;33m.\u001b[0m\u001b[0mto_datetime\u001b[0m\u001b[1;33m(\u001b[0m\u001b[0mdatetime\u001b[0m\u001b[1;33m.\u001b[0m\u001b[0mdatetime\u001b[0m\u001b[1;33m.\u001b[0m\u001b[0mfromtimestamp\u001b[0m\u001b[1;33m(\u001b[0m\u001b[0mx\u001b[0m\u001b[1;33m)\u001b[0m\u001b[1;33m)\u001b[0m\u001b[1;33m)\u001b[0m\u001b[1;33m\u001b[0m\u001b[1;33m\u001b[0m\u001b[0m\n\u001b[0m",
      "\u001b[1;31mTypeError\u001b[0m: an integer is required (got type Timestamp)"
     ]
    }
   ],
   "source": [
    "comments.Time = comments.Time.apply(lambda x: pd.to_datetime(datetime.datetime.fromtimestamp(x)))"
   ]
  },
  {
   "cell_type": "code",
   "execution_count": 65,
   "metadata": {},
   "outputs": [
    {
     "output_type": "execute_result",
     "data": {
      "text/plain": "(101826, 4)"
     },
     "metadata": {},
     "execution_count": 65
    }
   ],
   "source": [
    "comments.shape"
   ]
  },
  {
   "cell_type": "code",
   "execution_count": 68,
   "metadata": {},
   "outputs": [],
   "source": [
    "comments.to_csv('./data/raw/Comments.csv', index=False)"
   ]
  },
  {
   "cell_type": "code",
   "execution_count": 69,
   "metadata": {},
   "outputs": [],
   "source": [
    "posts.to_csv('./data/raw/Posts.csv', index=False)"
   ]
  },
  {
   "cell_type": "code",
   "execution_count": null,
   "metadata": {},
   "outputs": [],
   "source": []
  },
  {
   "cell_type": "code",
   "execution_count": null,
   "metadata": {},
   "outputs": [],
   "source": []
  }
 ]
}